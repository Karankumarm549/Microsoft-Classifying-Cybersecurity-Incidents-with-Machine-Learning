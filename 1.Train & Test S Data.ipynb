{
 "cells": [
  {
   "cell_type": "markdown",
   "id": "57c4cb0f-d907-431e-a9f3-fd02c2ed922a",
   "metadata": {},
   "source": [
    "# Train Data"
   ]
  },
  {
   "cell_type": "code",
   "execution_count": 15,
   "id": "07a0eee0-6ec0-4f25-81ec-962362619098",
   "metadata": {},
   "outputs": [],
   "source": [
    "import pandas as pd"
   ]
  },
  {
   "cell_type": "code",
   "execution_count": 1,
   "id": "c62f718a-2ac3-4ee8-9a3c-1a05a507d64e",
   "metadata": {},
   "outputs": [
    {
     "name": "stdout",
     "output_type": "stream",
     "text": [
      "Saved 100000 rows to New_train.csv.\n"
     ]
    }
   ],
   "source": [
    "large_file_path = \"GUIDE_Train.csv\"\n",
    "output_file_path = \"New_train.csv\"\n",
    "\n",
    "# Initializing an empty DataFrame to store the rows\n",
    "rows_to_keep = pd.DataFrame()\n",
    "\n",
    "# Reading the dataset in chunks of 100,000 rows\n",
    "chunk_size = 100000\n",
    "rows_needed = 100000\n",
    "rows_collected = 0\n",
    "\n",
    "for chunk in pd.read_csv(large_file_path, chunksize=chunk_size):\n",
    "    if rows_collected < rows_needed:\n",
    "        # Calculate remaining rows needed\n",
    "        rows_to_add = rows_needed - rows_collected\n",
    "        if len(chunk) <= rows_to_add:\n",
    "            rows_to_keep = pd.concat([rows_to_keep, chunk])\n",
    "            rows_collected += len(chunk)\n",
    "        else:\n",
    "            rows_to_keep = pd.concat([rows_to_keep, chunk.iloc[:rows_to_add]])\n",
    "            rows_collected += rows_to_add\n",
    "    else:\n",
    "        break\n",
    "\n",
    "#saving the collected rows in csv file\n",
    "rows_to_keep.to_csv(output_file_path, index=False)\n",
    "print(f\"Saved {rows_collected} rows to {output_file_path}.\")\n"
   ]
  },
  {
   "cell_type": "markdown",
   "id": "ca176c5e-f748-4b68-b553-3aa45f03570b",
   "metadata": {},
   "source": [
    "# Test Data"
   ]
  },
  {
   "cell_type": "code",
   "execution_count": 7,
   "id": "d3c0bb2b-d4cf-4379-828b-9f04356c2284",
   "metadata": {},
   "outputs": [
    {
     "name": "stdout",
     "output_type": "stream",
     "text": [
      "Saved 100000 rows to New_test.csv.\n"
     ]
    }
   ],
   "source": [
    "large_file_path = \"GUIDE_Test.csv\"\n",
    "output_file_path = \"New_test.csv\"\n",
    "\n",
    "rows_to_keep = pd.DataFrame()\n",
    "\n",
    "chunk_size = 100000\n",
    "rows_needed = 100000\n",
    "rows_collected = 0\n",
    "\n",
    "for chunk in pd.read_csv(large_file_path, chunksize=chunk_size):\n",
    "    if rows_collected < rows_needed:\n",
    "        # Calculate remaining rows needed\n",
    "        rows_to_add = rows_needed - rows_collected\n",
    "        if len(chunk) <= rows_to_add:\n",
    "            rows_to_keep = pd.concat([rows_to_keep, chunk])\n",
    "            rows_collected += len(chunk)\n",
    "        else:\n",
    "            rows_to_keep = pd.concat([rows_to_keep, chunk.iloc[:rows_to_add]])\n",
    "            rows_collected += rows_to_add\n",
    "    else:\n",
    "        break\n",
    "\n",
    "rows_to_keep.to_csv(output_file_path, index=False)\n",
    "print(f\"Saved {rows_collected} rows to {output_file_path}.\")"
   ]
  },
  {
   "cell_type": "code",
   "execution_count": null,
   "id": "ac7fe4bd-1a3b-4dac-8466-b2b938e1b2bf",
   "metadata": {},
   "outputs": [],
   "source": []
  }
 ],
 "metadata": {
  "kernelspec": {
   "display_name": "Python 3 (ipykernel)",
   "language": "python",
   "name": "python3"
  },
  "language_info": {
   "codemirror_mode": {
    "name": "ipython",
    "version": 3
   },
   "file_extension": ".py",
   "mimetype": "text/x-python",
   "name": "python",
   "nbconvert_exporter": "python",
   "pygments_lexer": "ipython3",
   "version": "3.12.4"
  }
 },
 "nbformat": 4,
 "nbformat_minor": 5
}
