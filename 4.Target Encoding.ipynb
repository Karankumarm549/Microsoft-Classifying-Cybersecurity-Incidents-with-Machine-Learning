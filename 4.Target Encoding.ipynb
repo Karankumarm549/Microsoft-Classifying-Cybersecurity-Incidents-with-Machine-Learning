{
 "cells": [
  {
   "cell_type": "code",
   "execution_count": 3,
   "id": "e2d72190-f674-4484-bb24-3ebe28c9c704",
   "metadata": {},
   "outputs": [],
   "source": [
    "import joblib\n",
    "import pandas as pd\n",
    "from sklearn.preprocessing import LabelEncoder"
   ]
  },
  {
   "cell_type": "markdown",
   "id": "91a8aa53-0b67-42d9-a621-37975f30b90c",
   "metadata": {},
   "source": [
    "## Aligning Test Dataset Columns with Train Data"
   ]
  },
  {
   "cell_type": "code",
   "execution_count": 5,
   "id": "9c487702-d2a5-47e0-9738-2e25bffeb700",
   "metadata": {},
   "outputs": [],
   "source": [
    "test_data = joblib.load('Encoded_Test_Data.joblib')"
   ]
  },
  {
   "cell_type": "code",
   "execution_count": 15,
   "id": "d3f52120-f43d-4d94-96f7-7004a35873e6",
   "metadata": {},
   "outputs": [],
   "source": [
    "train_data = joblib.load('Encoded_Train_Data.joblib')"
   ]
  },
  {
   "cell_type": "code",
   "execution_count": 9,
   "id": "d7665bbc-fae9-46f9-be54-d4655bf3bfba",
   "metadata": {},
   "outputs": [
    {
     "data": {
      "text/plain": [
       "(34494, 78)"
      ]
     },
     "execution_count": 9,
     "metadata": {},
     "output_type": "execute_result"
    }
   ],
   "source": [
    "test_data.shape"
   ]
  },
  {
   "cell_type": "code",
   "execution_count": 17,
   "id": "7736d3de-a559-4f5f-b29c-5b64113718dc",
   "metadata": {},
   "outputs": [
    {
     "data": {
      "text/plain": [
       "(34600, 80)"
      ]
     },
     "execution_count": 17,
     "metadata": {},
     "output_type": "execute_result"
    }
   ],
   "source": [
    "train_data.shape"
   ]
  },
  {
   "cell_type": "code",
   "execution_count": 19,
   "id": "69222533-ed5f-4f5c-97e9-1f0b1abf3fb9",
   "metadata": {},
   "outputs": [
    {
     "name": "stdout",
     "output_type": "stream",
     "text": [
      "(34600, 80)\n",
      "(34494, 78)\n"
     ]
    }
   ],
   "source": [
    "print(train_data.shape)\n",
    "print(test_data.shape)"
   ]
  },
  {
   "cell_type": "markdown",
   "id": "a5deb7ed-035c-4a3a-b6f3-1bb00ec94322",
   "metadata": {},
   "source": [
    " **Test datasets are aligned in terms of their columns from Train datasets**"
   ]
  },
  {
   "cell_type": "code",
   "execution_count": null,
   "id": "4aee15ba-64f9-4fba-9478-7f293751b110",
   "metadata": {},
   "outputs": [],
   "source": [
    "train_data, test_data = train_data.align(test_data, join='left', axis=1)\n",
    "test_data.fillna(0, inplace=True)"
   ]
  },
  {
   "cell_type": "code",
   "execution_count": 23,
   "id": "f082b927-fa93-4f27-b660-a3f0f00799a2",
   "metadata": {},
   "outputs": [
    {
     "data": {
      "text/plain": [
       "(34494, 80)"
      ]
     },
     "execution_count": 23,
     "metadata": {},
     "output_type": "execute_result"
    }
   ],
   "source": [
    "test_data.shape"
   ]
  },
  {
   "cell_type": "code",
   "execution_count": 25,
   "id": "47f19d27-f5a5-493c-aebb-0ede4094275d",
   "metadata": {},
   "outputs": [],
   "source": [
    "test_data = test_data.reset_index(drop=True)"
   ]
  },
  {
   "cell_type": "code",
   "execution_count": 27,
   "id": "34b3a571-adb9-4934-bcb5-442106fced06",
   "metadata": {},
   "outputs": [
    {
     "name": "stdout",
     "output_type": "stream",
     "text": [
      "(34600, 80)\n",
      "(34494, 80)\n"
     ]
    }
   ],
   "source": [
    "print(train_data.shape)\n",
    "print(test_data.shape)"
   ]
  },
  {
   "cell_type": "markdown",
   "id": "88041657-ada3-4eaa-bb04-298cf2cdf00e",
   "metadata": {},
   "source": [
    "## Target Encoding"
   ]
  },
  {
   "cell_type": "code",
   "execution_count": 30,
   "id": "4b8aafd2-4cc2-4049-9807-5153a96085f9",
   "metadata": {},
   "outputs": [
    {
     "data": {
      "text/plain": [
       "array(['FalsePositive', 'BenignPositive', 'TruePositive'], dtype=object)"
      ]
     },
     "execution_count": 30,
     "metadata": {},
     "output_type": "execute_result"
    }
   ],
   "source": [
    "a=test_data['IncidentGrade'].unique()\n",
    "b=train_data['IncidentGrade'].unique()\n",
    "a"
   ]
  },
  {
   "cell_type": "code",
   "execution_count": 32,
   "id": "cd499eba-91d0-4b74-adea-3e2bd7ee89a8",
   "metadata": {},
   "outputs": [
    {
     "data": {
      "text/plain": [
       "array(['BenignPositive', 'TruePositive', 'FalsePositive'], dtype=object)"
      ]
     },
     "execution_count": 32,
     "metadata": {},
     "output_type": "execute_result"
    }
   ],
   "source": [
    "b"
   ]
  },
  {
   "cell_type": "markdown",
   "id": "aa840eb5-a2b4-4fe7-80f5-00195d7694aa",
   "metadata": {},
   "source": [
    "## Unified Label Encoding: Combining, Fitting, and Transforming Labels in the Target Data"
   ]
  },
  {
   "cell_type": "code",
   "execution_count": 34,
   "id": "680f0750-fe5a-4818-9df4-ddc075d33b12",
   "metadata": {},
   "outputs": [
    {
     "name": "stdout",
     "output_type": "stream",
     "text": [
      "Train encoded labels: [0 2 1]\n",
      "Test encoded labels: [1 0 2]\n",
      "Label mapping: {'BenignPositive': 0, 'FalsePositive': 1, 'TruePositive': 2}\n"
     ]
    }
   ],
   "source": [
    "#combining the unique labels from both datasets\n",
    "all_labels = list(set(train_data['IncidentGrade']).union(set(test_data['IncidentGrade'])))\n",
    "\n",
    "#fiting the LabelEncoder on the combined labels\n",
    "le = LabelEncoder()\n",
    "le.fit(all_labels)\n",
    "\n",
    "#transforming the labels\n",
    "train_data['IncidentGrade'] = le.transform(train_data['IncidentGrade'])\n",
    "test_data['IncidentGrade'] = le.transform(test_data['IncidentGrade'])\n",
    "\n",
    "print(\"Train encoded labels:\", train_data['IncidentGrade'].unique())\n",
    "print(\"Test encoded labels:\", test_data['IncidentGrade'].unique())\n",
    "print(\"Label mapping:\", dict(zip(le.classes_, le.transform(le.classes_))))\n"
   ]
  },
  {
   "cell_type": "markdown",
   "id": "b5dbd4d5-7074-4e2e-bf64-0cb68c378370",
   "metadata": {},
   "source": [
    "### Saving the Train & Test data using Joblib"
   ]
  },
  {
   "cell_type": "code",
   "execution_count": 36,
   "id": "460293b0-ec97-4dd5-b9e6-bb1de861212d",
   "metadata": {},
   "outputs": [
    {
     "data": {
      "text/plain": [
       "['Encoded_Test_Data_F.joblib']"
      ]
     },
     "execution_count": 36,
     "metadata": {},
     "output_type": "execute_result"
    }
   ],
   "source": [
    "joblib.dump(test_data, 'Encoded_Test_Data_F.joblib')"
   ]
  },
  {
   "cell_type": "code",
   "execution_count": 38,
   "id": "fa0b8790-d013-4cf1-b1a8-2d30a48f92da",
   "metadata": {},
   "outputs": [
    {
     "data": {
      "text/plain": [
       "['Encoded_Train_Data_F.joblib']"
      ]
     },
     "execution_count": 38,
     "metadata": {},
     "output_type": "execute_result"
    }
   ],
   "source": [
    "joblib.dump(train_data, 'Encoded_Train_Data_F.joblib')"
   ]
  },
  {
   "cell_type": "code",
   "execution_count": null,
   "id": "06b1947b-ff40-40f8-8095-3364b0ca3f61",
   "metadata": {},
   "outputs": [],
   "source": []
  }
 ],
 "metadata": {
  "kernelspec": {
   "display_name": "Python 3 (ipykernel)",
   "language": "python",
   "name": "python3"
  },
  "language_info": {
   "codemirror_mode": {
    "name": "ipython",
    "version": 3
   },
   "file_extension": ".py",
   "mimetype": "text/x-python",
   "name": "python",
   "nbconvert_exporter": "python",
   "pygments_lexer": "ipython3",
   "version": "3.12.4"
  }
 },
 "nbformat": 4,
 "nbformat_minor": 5
}
