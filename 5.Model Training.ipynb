{
 "cells": [
  {
   "cell_type": "code",
   "execution_count": 5,
   "id": "32b7b579-0fed-4444-a8a4-d780aef30a98",
   "metadata": {},
   "outputs": [],
   "source": [
    "import joblib\n",
    "import numpy as np\n",
    "from sklearn.linear_model import LogisticRegression\n",
    "from sklearn.tree import DecisionTreeClassifier\n",
    "from sklearn.ensemble import RandomForestClassifier, GradientBoostingClassifier\n",
    "from sklearn.svm import SVC\n",
    "from sklearn.neighbors import KNeighborsClassifier\n",
    "from sklearn.metrics import accuracy_score\n",
    "from sklearn.model_selection import train_test_split\n",
    "from sklearn.metrics import classification_report, f1_score, precision_score, recall_score\n",
    "from sklearn.model_selection import RandomizedSearchCV"
   ]
  },
  {
   "cell_type": "markdown",
   "id": "6968cd1a-cd52-4603-93ec-aa9877836f7e",
   "metadata": {
    "jp-MarkdownHeadingCollapsed": true
   },
   "source": [
    "## 1.Loading the Train,Test Datasets"
   ]
  },
  {
   "cell_type": "code",
   "execution_count": 13,
   "id": "d5a7091b-e6de-4dab-85b3-b1e8c2a567d9",
   "metadata": {},
   "outputs": [],
   "source": [
    "train_data = joblib.load('Encoded_Train_Data_F.joblib')\n",
    "test_data = joblib.load('Encoded_Test_Data_F.joblib')"
   ]
  },
  {
   "cell_type": "markdown",
   "id": "ef937a9a-6b5e-4d86-be28-4b1d57bbdff5",
   "metadata": {
    "jp-MarkdownHeadingCollapsed": true
   },
   "source": [
    "## 2.Spliting"
   ]
  },
  {
   "cell_type": "code",
   "execution_count": 29,
   "id": "a3a1ee44-5ba1-47b1-9f67-67f2f5e001d2",
   "metadata": {},
   "outputs": [
    {
     "name": "stdout",
     "output_type": "stream",
     "text": [
      "Training Features Shape: (34600, 79)\n",
      "Training Target Shape: (34600,)\n",
      "Test Features Shape: (34494, 79)\n",
      "Test Target Shape: (34494,)\n"
     ]
    }
   ],
   "source": [
    "# Defining the target column from the data\n",
    "target_column = 'IncidentGrade'\n",
    "\n",
    "#spliting train data\n",
    "X_train = train_data.drop(columns=[target_column])\n",
    "y_train = train_data[target_column]\n",
    "\n",
    "#spliting test data\n",
    "X_test = test_data.drop(columns=[target_column])\n",
    "y_test = test_data[target_column]\n",
    "\n",
    "#shapes of the data\n",
    "print(f\"Training Features Shape: {X_train.shape}\")\n",
    "print(f\"Training Target Shape: {y_train.shape}\")\n",
    "print(f\"Test Features Shape: {X_test.shape}\")\n",
    "print(f\"Test Target Shape: {y_test.shape}\")\n"
   ]
  },
  {
   "cell_type": "markdown",
   "id": "a4b9a4b9-cde4-4b6d-a41f-2f33a1345a38",
   "metadata": {
    "jp-MarkdownHeadingCollapsed": true
   },
   "source": [
    "## 3.Model Training"
   ]
  },
  {
   "cell_type": "code",
   "execution_count": 32,
   "id": "da9236d2-c04d-427e-8ed4-90c944d5e47b",
   "metadata": {},
   "outputs": [
    {
     "name": "stdout",
     "output_type": "stream",
     "text": [
      "Logistic Regression Accuracy: 0.6503\n",
      "Decision Tree Accuracy: 0.6737\n",
      "Random Forest Accuracy: 0.6741\n",
      "Gradient Boosting Accuracy: 0.6712\n",
      "SVM Accuracy: 0.6952\n",
      "KNN Accuracy: 0.6694\n",
      "\n",
      "Best Model: SVM with Accuracy: 0.6952\n"
     ]
    }
   ],
   "source": [
    "#spliting train data further into training and validation sets\n",
    "X_train, X_val, y_train, y_val = train_test_split(X_train, y_train, test_size=0.2, random_state=42)\n",
    "\n",
    "models = {\n",
    "    \"Logistic Regression\": LogisticRegression(max_iter=1000),\n",
    "    \"Decision Tree\": DecisionTreeClassifier(),\n",
    "    \"Random Forest\": RandomForestClassifier(),\n",
    "    \"Gradient Boosting\": GradientBoostingClassifier(),\n",
    "    \"SVM\": SVC(),\n",
    "    \"KNN\": KNeighborsClassifier()\n",
    "}\n",
    "\n",
    "# Train and evaluate each model\n",
    "model_accuracies = {}\n",
    "\n",
    "for model_name, model in models.items():\n",
    "    model.fit(X_train, y_train)\n",
    "    y_val_pred = model.predict(X_val)\n",
    "    accuracy = accuracy_score(y_val, y_val_pred)\n",
    "    model_accuracies[model_name] = accuracy\n",
    "    print(f\"{model_name} Accuracy: {accuracy:.4f}\")\n",
    "\n",
    "# Identifing the best model\n",
    "best_model_name = max(model_accuracies, key=model_accuracies.get)\n",
    "print(f\"\\nBest Model: {best_model_name} with Accuracy: {model_accuracies[best_model_name]:.4f}\")\n"
   ]
  },
  {
   "cell_type": "markdown",
   "id": "4d9f7bfe-94c1-4643-b7d6-2761d92b9526",
   "metadata": {},
   "source": [
    "### 3.1.Saving the Best Model using Joblib"
   ]
  },
  {
   "cell_type": "code",
   "execution_count": 34,
   "id": "bf66f078-0ee7-4b95-87dd-708fc67e0a47",
   "metadata": {},
   "outputs": [
    {
     "name": "stdout",
     "output_type": "stream",
     "text": [
      "Best model saved as SVM_Model.joblib\n"
     ]
    }
   ],
   "source": [
    "best_model = models[best_model_name]\n",
    "joblib.dump(best_model, f\"{best_model_name}_Model.joblib\")\n",
    "print(f\"Best model saved as {best_model_name}_Model.joblib\")"
   ]
  },
  {
   "cell_type": "markdown",
   "id": "8c1076ba-4c0c-4a56-b249-435e17ada547",
   "metadata": {
    "jp-MarkdownHeadingCollapsed": true
   },
   "source": [
    "## 4.Loading the saved SVM model"
   ]
  },
  {
   "cell_type": "code",
   "execution_count": 37,
   "id": "a3485f42-7518-4ad2-8354-7e7dd1ca638c",
   "metadata": {},
   "outputs": [],
   "source": [
    "SVM_model = joblib.load('SVM_Model.joblib')"
   ]
  },
  {
   "cell_type": "markdown",
   "id": "88843daa-0f99-4100-91a4-4f2f86b72068",
   "metadata": {
    "jp-MarkdownHeadingCollapsed": true
   },
   "source": [
    "## 5.Evaluate Performance on Validation Set"
   ]
  },
  {
   "cell_type": "code",
   "execution_count": 40,
   "id": "942b5523-3776-4675-bb87-27f46bacfd44",
   "metadata": {},
   "outputs": [
    {
     "name": "stdout",
     "output_type": "stream",
     "text": [
      "Classification Report:\n",
      "              precision    recall  f1-score   support\n",
      "\n",
      "          TP       0.65      0.91      0.76      3014\n",
      "          BP       0.69      0.39      0.50      1430\n",
      "          FP       0.79      0.61      0.69      2476\n",
      "\n",
      "    accuracy                           0.70      6920\n",
      "   macro avg       0.71      0.64      0.65      6920\n",
      "weighted avg       0.71      0.70      0.68      6920\n",
      "\n",
      "Macro-F1 Score: 0.6486822902053254\n",
      "Precision: 0.7110703560222132\n",
      "Recall: 0.6363493704743425\n"
     ]
    }
   ],
   "source": [
    "# Predict on validation data\n",
    "val_predictions = SVM_model.predict(X_val)\n",
    "\n",
    "#creating performance metrics\n",
    "print(\"Classification Report:\")\n",
    "print(classification_report(y_val, val_predictions, target_names=['TP', 'BP', 'FP']))\n",
    "\n",
    "#calculating the individual metrics\n",
    "macro_f1 = f1_score(y_val, val_predictions, average='macro')\n",
    "precision = precision_score(y_val, val_predictions, average='macro')\n",
    "recall = recall_score(y_val, val_predictions, average='macro')\n",
    "\n",
    "print(f\"Macro-F1 Score: {macro_f1}\")\n",
    "print(f\"Precision: {precision}\")\n",
    "print(f\"Recall: {recall}\")\n"
   ]
  },
  {
   "cell_type": "markdown",
   "id": "31de6f4b-5ac7-42c1-9059-79c8b30afe0d",
   "metadata": {
    "jp-MarkdownHeadingCollapsed": true
   },
   "source": [
    "## 6.Hyperparameter Tuning using RandomizedSearchCV"
   ]
  },
  {
   "cell_type": "code",
   "execution_count": 23,
   "id": "4e109b39-1156-49bf-ad8d-6388c2145d37",
   "metadata": {},
   "outputs": [
    {
     "name": "stdout",
     "output_type": "stream",
     "text": [
      "Fitting 3 folds for each of 20 candidates, totalling 60 fits\n",
      "Best Parameters: {'kernel': 'rbf', 'gamma': 'scale', 'class_weight': 'balanced', 'C': 1}\n",
      "Best Macro-F1 Score: 0.6444042359392367\n"
     ]
    }
   ],
   "source": [
    "random_search = RandomizedSearchCV(\n",
    "    SVM_model,\n",
    "    param_distributions=param_grid,\n",
    "    n_iter=20,  # Number of combinations to try\n",
    "    scoring='f1_macro',\n",
    "    cv=3,\n",
    "    verbose=1,\n",
    "    random_state=42,\n",
    "    n_jobs=-1  # Use all CPU cores\n",
    ")\n",
    "\n",
    "#model fitting\n",
    "random_search.fit(X_train, y_train)\n",
    "\n",
    "#best parameters and score\n",
    "print(\"Best Parameters:\", random_search.best_params_)\n",
    "print(\"Best Macro-F1 Score:\", random_search.best_score_)\n"
   ]
  },
  {
   "cell_type": "markdown",
   "id": "a50dd5f7-bf15-4eb6-b415-0524ad4adeea",
   "metadata": {},
   "source": [
    "### 6.1.Saving the Best Tuned Model using Joblib"
   ]
  },
  {
   "cell_type": "code",
   "execution_count": 28,
   "id": "5c315c1e-3664-4c4c-b9c8-b5719d447f94",
   "metadata": {},
   "outputs": [
    {
     "name": "stdout",
     "output_type": "stream",
     "text": [
      "Best tuned model saved as 'Tuned_SVM_Model_RandomizedSearch.joblib'\n"
     ]
    }
   ],
   "source": [
    "joblib.dump(random_search.best_estimator_, 'Tuned_SVM_Model_RandomizedSearch.joblib')\n",
    "print(\"Best tuned model saved as 'Tuned_SVM_Model_RandomizedSearch.joblib'\")\n"
   ]
  },
  {
   "cell_type": "markdown",
   "id": "241002d3-e4fd-4b7e-9c6c-d439229d727f",
   "metadata": {
    "jp-MarkdownHeadingCollapsed": true
   },
   "source": [
    "## 7.Loading the Tuned Model"
   ]
  },
  {
   "cell_type": "code",
   "execution_count": 42,
   "id": "9f29eb78-6071-4a5e-852a-76d223b3950c",
   "metadata": {},
   "outputs": [],
   "source": [
    "tuned_model = joblib.load('Tuned_SVM_Model_RandomizedSearch.joblib')\n"
   ]
  },
  {
   "cell_type": "markdown",
   "id": "588fb496-580f-4c6b-aaed-5e2df77153da",
   "metadata": {
    "jp-MarkdownHeadingCollapsed": true
   },
   "source": [
    "## 8.Evaluate on Validation Set"
   ]
  },
  {
   "cell_type": "code",
   "execution_count": 44,
   "id": "fa917849-e258-42a5-8c8e-76a45ae82a20",
   "metadata": {},
   "outputs": [
    {
     "name": "stdout",
     "output_type": "stream",
     "text": [
      "Validation Set Classification Report:\n",
      "              precision    recall  f1-score   support\n",
      "\n",
      "          TP       0.71      0.79      0.75      3014\n",
      "          BP       0.53      0.56      0.55      1430\n",
      "          FP       0.78      0.64      0.70      2476\n",
      "\n",
      "    accuracy                           0.69      6920\n",
      "   macro avg       0.67      0.66      0.67      6920\n",
      "weighted avg       0.70      0.69      0.69      6920\n",
      "\n",
      "Macro-F1 Score (Validation): 0.6653374953999901\n",
      "Precision (Validation): 0.6722899595362407\n",
      "Recall (Validation): 0.6646617278652701\n"
     ]
    }
   ],
   "source": [
    "#predicting on the validation data\n",
    "val_predictions = tuned_model.predict(X_val)\n",
    "\n",
    "# Generate performance metrics\n",
    "print(\"Validation Set Classification Report:\")\n",
    "print(classification_report(y_val, val_predictions, target_names=['TP', 'BP', 'FP']))\n",
    "\n",
    "#calculating individual metrics\n",
    "macro_f1 = f1_score(y_val, val_predictions, average='macro')\n",
    "precision = precision_score(y_val, val_predictions, average='macro')\n",
    "recall = recall_score(y_val, val_predictions, average='macro')\n",
    "\n",
    "print(f\"Macro-F1 Score (Validation): {macro_f1}\")\n",
    "print(f\"Precision (Validation): {precision}\")\n",
    "print(f\"Recall (Validation): {recall}\")\n"
   ]
  },
  {
   "cell_type": "markdown",
   "id": "950a6997-6f8e-4b14-851e-691ec707e5dd",
   "metadata": {},
   "source": [
    "## 9.Final Evaluation on Test Set"
   ]
  },
  {
   "cell_type": "code",
   "execution_count": 46,
   "id": "42e4b76a-b14c-4e0f-94f4-c361f988667b",
   "metadata": {},
   "outputs": [
    {
     "name": "stdout",
     "output_type": "stream",
     "text": [
      "Test Set Classification Report:\n",
      "              precision    recall  f1-score   support\n",
      "\n",
      "          TP       0.67      0.76      0.71     14874\n",
      "          BP       0.46      0.49      0.47      6630\n",
      "          FP       0.74      0.61      0.67     12990\n",
      "\n",
      "    accuracy                           0.65     34494\n",
      "   macro avg       0.63      0.62      0.62     34494\n",
      "weighted avg       0.66      0.65      0.65     34494\n",
      "\n",
      "Macro-F1 Score (Test): 0.6203888456107803\n",
      "Precision (Test): 0.6266386503096425\n",
      "Recall (Test): 0.6201758783104195\n"
     ]
    }
   ],
   "source": [
    "#now predicting with the test data\n",
    "test_predictions = tuned_model.predict(X_test)\n",
    "\n",
    "#generate performance metrics\n",
    "print(\"Test Set Classification Report:\")\n",
    "print(classification_report(y_test, test_predictions, target_names=['TP', 'BP', 'FP']))\n",
    "\n",
    "# Calculate individual metrics\n",
    "macro_f1_test = f1_score(y_test, test_predictions, average='macro')\n",
    "precision_test = precision_score(y_test, test_predictions, average='macro')\n",
    "recall_test = recall_score(y_test, test_predictions, average='macro')\n",
    "\n",
    "print(f\"Macro-F1 Score (Test): {macro_f1_test}\")\n",
    "print(f\"Precision (Test): {precision_test}\")\n",
    "print(f\"Recall (Test): {recall_test}\")\n"
   ]
  },
  {
   "cell_type": "code",
   "execution_count": null,
   "id": "9bb537d5-bb74-4de9-95e9-33be9a26d374",
   "metadata": {},
   "outputs": [],
   "source": []
  }
 ],
 "metadata": {
  "kernelspec": {
   "display_name": "Python 3 (ipykernel)",
   "language": "python",
   "name": "python3"
  },
  "language_info": {
   "codemirror_mode": {
    "name": "ipython",
    "version": 3
   },
   "file_extension": ".py",
   "mimetype": "text/x-python",
   "name": "python",
   "nbconvert_exporter": "python",
   "pygments_lexer": "ipython3",
   "version": "3.12.4"
  }
 },
 "nbformat": 4,
 "nbformat_minor": 5
}
